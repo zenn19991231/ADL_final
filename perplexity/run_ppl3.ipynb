{
 "cells": [
  {
   "cell_type": "code",
   "execution_count": 1,
   "metadata": {},
   "outputs": [
    {
     "name": "stdout",
     "output_type": "stream",
     "text": [
      "Loading checkpoint shards: 100%|██████████████████| 3/3 [00:10<00:00,  3.53s/it]\n",
      "  0%|                                                    | 0/60 [00:00<?, ?it/s]2023-12-23 21:48:16.687281: I tensorflow/core/util/port.cc:113] oneDNN custom operations are on. You may see slightly different numerical results due to floating-point round-off errors from different computation orders. To turn them off, set the environment variable `TF_ENABLE_ONEDNN_OPTS=0`.\n",
      "2023-12-23 21:48:16.731205: E external/local_xla/xla/stream_executor/cuda/cuda_dnn.cc:9261] Unable to register cuDNN factory: Attempting to register factory for plugin cuDNN when one has already been registered\n",
      "2023-12-23 21:48:16.731252: E external/local_xla/xla/stream_executor/cuda/cuda_fft.cc:607] Unable to register cuFFT factory: Attempting to register factory for plugin cuFFT when one has already been registered\n",
      "2023-12-23 21:48:16.732813: E external/local_xla/xla/stream_executor/cuda/cuda_blas.cc:1515] Unable to register cuBLAS factory: Attempting to register factory for plugin cuBLAS when one has already been registered\n",
      "2023-12-23 21:48:16.740125: I tensorflow/core/platform/cpu_feature_guard.cc:182] This TensorFlow binary is optimized to use available CPU instructions in performance-critical operations.\n",
      "To enable the following instructions: AVX2 AVX512F AVX512_VNNI FMA, in other operations, rebuild TensorFlow with the appropriate compiler flags.\n",
      "2023-12-23 21:48:17.453953: W tensorflow/compiler/tf2tensorrt/utils/py_utils.cc:38] TF-TRT Warning: Could not find TensorRT\n",
      "100%|███████████████████████████████████████████| 60/60 [02:07<00:00,  2.12s/it]\n",
      "Loading checkpoint shards: 100%|██████████████████| 3/3 [00:09<00:00,  3.27s/it]\n",
      "  0%|                                                    | 0/60 [00:00<?, ?it/s]2023-12-23 21:50:40.232630: I tensorflow/core/util/port.cc:113] oneDNN custom operations are on. You may see slightly different numerical results due to floating-point round-off errors from different computation orders. To turn them off, set the environment variable `TF_ENABLE_ONEDNN_OPTS=0`.\n",
      "2023-12-23 21:50:40.280504: E external/local_xla/xla/stream_executor/cuda/cuda_dnn.cc:9261] Unable to register cuDNN factory: Attempting to register factory for plugin cuDNN when one has already been registered\n",
      "2023-12-23 21:50:40.280558: E external/local_xla/xla/stream_executor/cuda/cuda_fft.cc:607] Unable to register cuFFT factory: Attempting to register factory for plugin cuFFT when one has already been registered\n",
      "2023-12-23 21:50:40.282329: E external/local_xla/xla/stream_executor/cuda/cuda_blas.cc:1515] Unable to register cuBLAS factory: Attempting to register factory for plugin cuBLAS when one has already been registered\n",
      "2023-12-23 21:50:40.290862: I tensorflow/core/platform/cpu_feature_guard.cc:182] This TensorFlow binary is optimized to use available CPU instructions in performance-critical operations.\n",
      "To enable the following instructions: AVX2 AVX512F AVX512_VNNI FMA, in other operations, rebuild TensorFlow with the appropriate compiler flags.\n",
      "2023-12-23 21:50:41.067139: W tensorflow/compiler/tf2tensorrt/utils/py_utils.cc:38] TF-TRT Warning: Could not find TensorRT\n",
      " 45%|███████████████████▎                       | 27/60 [01:17<01:28,  2.68s/it]"
     ]
    }
   ],
   "source": [
    "\n",
    "which_prompts = [\"promptB\", \"promptC\"]\n",
    "for which_prompt in which_prompts:\n",
    "    for i in range(0, 6):\n",
    "        !python3           \"/home/adl/Desktop/ADL_final/evaluate/ppl_function.py\" \\\n",
    "        --base_model_path  \"/home/adl/Desktop/ADL_final/model/Taiwan-LLM-13B-v2.0-chat \" \\\n",
    "        --peft_path        \"\" \\\n",
    "        --test_data_path   \"/home/adl/Desktop/ADL_final/data/{which_prompt}/{which_prompt}_combine.json\" \\\n",
    "        --prediction_path  \"/home/adl/Desktop/ADL_final/data/promptB/{which_prompt}_ppl_list.json\" \\\n",
    "        --which_prompt     \"{which_prompt}\" \\\n",
    "        --num_example      {i} \\\n",
    "        --device_id        0"
   ]
  }
 ],
 "metadata": {
  "kernelspec": {
   "display_name": "ADL",
   "language": "python",
   "name": "python3"
  },
  "language_info": {
   "codemirror_mode": {
    "name": "ipython",
    "version": 3
   },
   "file_extension": ".py",
   "mimetype": "text/x-python",
   "name": "python",
   "nbconvert_exporter": "python",
   "pygments_lexer": "ipython3",
   "version": "3.9.0"
  }
 },
 "nbformat": 4,
 "nbformat_minor": 2
}
