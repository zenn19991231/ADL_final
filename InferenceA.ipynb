{
 "cells": [
  {
   "cell_type": "code",
   "execution_count": null,
   "metadata": {},
   "outputs": [],
   "source": [
    "which_prompt = \"promptC\"\n",
    "!python3           \"predict.py\" \\\n",
    "--base_model_path  \"/home/adl/Desktop/ADL_final/model/Taiwan-LLM-7B-v2.0-chat\" \\\n",
    "--test_data_path   \"data/{which_prompt}/{which_prompt}_predict.json\" \\\n",
    "--prediction_path  \"data/{which_prompt}/{which_prompt}_predict1.json\" \\\n",
    "--which_prompt     \"{which_prompt}\" \\\n",
    "--device_id        1"
   ]
  }
 ],
 "metadata": {
  "kernelspec": {
   "display_name": "ADL",
   "language": "python",
   "name": "python3"
  },
  "language_info": {
   "codemirror_mode": {
    "name": "ipython",
    "version": 3
   },
   "file_extension": ".py",
   "mimetype": "text/x-python",
   "name": "python",
   "nbconvert_exporter": "python",
   "pygments_lexer": "ipython3",
   "version": "3.9.0"
  }
 },
 "nbformat": 4,
 "nbformat_minor": 2
}
