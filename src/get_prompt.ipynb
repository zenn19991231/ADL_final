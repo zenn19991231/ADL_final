{
 "cells": [
  {
   "cell_type": "markdown",
   "metadata": {},
   "source": [
    "# get prompt from json"
   ]
  },
  {
   "cell_type": "code",
   "execution_count": 6,
   "metadata": {},
   "outputs": [],
   "source": [
    "import json\n",
    "import random\n",
    "\n",
    "def get_prompt(which_prompt, num_example, instruction: str) -> str:\n",
    "\n",
    "    example_path = f\"data/{which_prompt}/{which_prompt}_example.json\"\n",
    "    with open(example_path, \"r\") as file:\n",
    "        example_data = json.load(file)\n",
    "\n",
    "    random.seed(1126)\n",
    "    example_data = random.sample(example_data, len(example_data))\n",
    "\n",
    "    promptA = \"你是一個精明的偵探，現在你要幫忙審視以下訊息的真偽，你會提供重要的關鍵資訊作為依據，給每一行一則訊息作出評價，評價方式為：\\“訊息真偽；可信度0~100(越高越可信)；原因。\\“\"\n",
    "    promptB = \"以準確的關鍵資訊作為判斷依據一句話簡短描述以下每則訊息內容的真偽，並依據其真偽程度評分0到100，並依照此格式回答：真偽程度。原因。\"\n",
    "    promptC = \"你是詐騙偵測機器人，請評論以下訊息\"\n",
    "    prefixA = \"請幫忙審視以下訊息的真偽\"\n",
    "    prefixB = \"以準確的關鍵資訊作為判斷依據一句話簡短描述以下每則訊息內容的真偽\"\n",
    "    prefixC = \"你是詐騙偵測機器人，請評論以下訊息\"\n",
    "\n",
    "    if which_prompt == \"promptA\":\n",
    "        prompt = promptA\n",
    "        prefix = prefixA\n",
    "    elif which_prompt == \"promptB\":\n",
    "        prompt = promptB\n",
    "        prefix = prefixB\n",
    "    elif which_prompt == \"promptC\":\n",
    "        prompt = promptC\n",
    "        prefix = prefixC\n",
    "\n",
    "    examples = [prompt]\n",
    "    for i in range(num_example):\n",
    "        user      = example_data[i][\"instruction\"]\n",
    "        assistant = example_data[i][\"output\"]\n",
    "        user      = f\"USER: {prefix}\\n{user}\"\n",
    "        assistant = f\"ASSISTANT: {assistant}\"\n",
    "        examples.append(user)\n",
    "        examples.append(assistant)\n",
    "\n",
    "    example = f\"USER: {prefix}\\n{instruction} ASSISTANT: \"\n",
    "    examples.append(example)\n",
    "\n",
    "    return \"\\n\".join(examples)"
   ]
  },
  {
   "cell_type": "code",
   "execution_count": null,
   "metadata": {},
   "outputs": [],
   "source": [
    "print(get_prompt(\"promptA\", 9, \"smple_input_instruction\"))"
   ]
  }
 ],
 "metadata": {
  "kernelspec": {
   "display_name": "ADL",
   "language": "python",
   "name": "python3"
  },
  "language_info": {
   "codemirror_mode": {
    "name": "ipython",
    "version": 3
   },
   "file_extension": ".py",
   "mimetype": "text/x-python",
   "name": "python",
   "nbconvert_exporter": "python",
   "pygments_lexer": "ipython3",
   "version": "3.9.0"
  }
 },
 "nbformat": 4,
 "nbformat_minor": 2
}
