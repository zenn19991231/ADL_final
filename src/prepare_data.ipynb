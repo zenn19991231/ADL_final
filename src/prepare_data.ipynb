{
 "cells": [
  {
   "cell_type": "markdown",
   "metadata": {},
   "source": [
    "# JSON to JSON"
   ]
  },
  {
   "cell_type": "code",
   "execution_count": 7,
   "metadata": {},
   "outputs": [],
   "source": [
    "import json\n",
    "import random\n",
    "\n",
    "which_prompt = \"promptA\"\n",
    "true_path    = f\"{which_prompt}/{which_prompt}_true.json\"\n",
    "fake_path    = f\"{which_prompt}/{which_prompt}_fake.json\"\n",
    "combine_path = f\"{which_prompt}/{which_prompt}_combine.json\"\n",
    "\n",
    "with open(true_path, \"r\") as file:\n",
    "    true_data = json.load(file)\n",
    "with open(fake_path, \"r\") as file:\n",
    "    fake_data = json.load(file)\n",
    "\n",
    "data = []\n",
    "id = 0\n",
    "for item in true_data:\n",
    "    item[\"id\"] = id\n",
    "    data.append(item)\n",
    "    id += 1\n",
    "for item in fake_data:\n",
    "    item[\"id\"] = id\n",
    "    data.append(item)\n",
    "    id += 1\n",
    "\n",
    "\n",
    "with open(combine_path, \"w\", encoding=\"utf8\") as file:\n",
    "    json.dump(data, file, indent=2, ensure_ascii=False)"
   ]
  },
  {
   "cell_type": "code",
   "execution_count": 1,
   "metadata": {},
   "outputs": [],
   "source": [
    "import json\n",
    "import random\n",
    "\n",
    "which_prompt = \"promptB\"\n",
    "true_path    = \"/home/adl/Desktop/ADL_final/data/promptB/promptB_combine1.json\"\n",
    "combine_path = f\"{which_prompt}/{which_prompt}_combine.json\"\n",
    "\n",
    "with open(true_path, \"r\") as file:\n",
    "    true_data = json.load(file)\n",
    "\n",
    "\n",
    "data = []\n",
    "id = 0\n",
    "for item in true_data:\n",
    "    item[\"id\"] = id\n",
    "    data.append(item)\n",
    "    id += 1\n",
    "\n",
    "\n",
    "\n",
    "with open(combine_path, \"w\", encoding=\"utf8\") as file:\n",
    "    json.dump(data, file, indent=2, ensure_ascii=False)"
   ]
  }
 ],
 "metadata": {
  "kernelspec": {
   "display_name": "ADL",
   "language": "python",
   "name": "python3"
  },
  "language_info": {
   "codemirror_mode": {
    "name": "ipython",
    "version": 3
   },
   "file_extension": ".py",
   "mimetype": "text/x-python",
   "name": "python",
   "nbconvert_exporter": "python",
   "pygments_lexer": "ipython3",
   "version": "3.9.0"
  }
 },
 "nbformat": 4,
 "nbformat_minor": 2
}
