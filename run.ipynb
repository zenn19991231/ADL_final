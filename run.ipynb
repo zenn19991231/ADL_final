{
 "cells": [
  {
   "cell_type": "code",
   "execution_count": 140,
   "metadata": {},
   "outputs": [
    {
     "name": "stdout",
     "output_type": "stream",
     "text": [
      "you are a helpful assistant\n",
      "USER: 請幫我偵測是否為詐騙訊息\\n您所郵寄的包裹涉嫌違規操作已退回 ASSISTANT: 詐騙訊息\n",
      "USER: 請幫我偵測是否為詐騙訊息\\n台新卡友好，112/2月行動帳單請點 https://bhurecv.taishinbank.com.tw/s/7Feg ASSISTANT: 真實訊息\n",
      "USER: 請幫我偵測是否為詐騙訊息\\n您為COVID-19確診個案 ASSISTANT: 詐騙訊息\n",
      "USER: 請幫我偵測是否為詐騙訊息\\n【大魯閣】股東您好，提醒您領取112年股東紀念品 ASSISTANT: 真實訊息\n",
      "USER: 請幫我偵測是否為詐騙訊息\\n防疫不出門，foodpanda讓你安心點！月付$49天天免費外送，立即訂閱 https://rrj.nu/F5JJJUPD ASSISTANT: 真實訊息\n",
      "USER: 請幫我偵測是否為詐騙訊息\\n買菜不出門 ASSISTANT: 真實訊息\n",
      "USER: 請幫我偵測是否為詐騙訊息\\n我是疫情防疫志願者，請添加line配合疫情防疫工作： http://line.me/  ASSISTANT: \n",
      "\n",
      "the answer should be: 詐騙訊息\n"
     ]
    }
   ],
   "source": [
    "import json\n",
    "import random\n",
    "\n",
    "json_path = \"data/message.json\"\n",
    "with open(json_path, 'r', encoding='utf-8') as json_file:\n",
    "    data = json.load(json_file)\n",
    "\n",
    "\n",
    "# random.seed(1126)\n",
    "random.shuffle(data)\n",
    "\n",
    "\n",
    "def prompt_generator(data, num_examples, prompt, request, answer_fake, answer_true):\n",
    "    print(prompt)\n",
    "    for i in range(num_examples):\n",
    "        label = answer_true if data[i][\"label\"] == 1 else answer_fake\n",
    "        message = data[i][\"message\"].replace(\"\\n\", \"\\\\n\")\n",
    "        print(f\"USER: {request}\\\\n{message} ASSISTANT: {label}\")\n",
    "    label = answer_true if data[num_examples][\"label\"] == 1 else answer_fake\n",
    "    message = data[num_examples][\"message\"].replace(\"\\n\", \"\\\\n\")\n",
    "    print(f\"USER: {request}\\\\n{message} ASSISTANT: \")\n",
    "    print()\n",
    "    print(f\"the answer should be: {label}\")\n",
    "\n",
    "\n",
    "num_examples = 6\n",
    "prompt       = \"you are a helpful assistant\"\n",
    "request      = \"請幫我偵測是否為詐騙訊息\"\n",
    "answer_fake  = \"詐騙訊息\"\n",
    "answer_true  = \"真實訊息\"\n",
    "prompt_generator(data, num_examples, prompt, request, answer_fake, answer_true)"
   ]
  }
 ],
 "metadata": {
  "kernelspec": {
   "display_name": "ADL",
   "language": "python",
   "name": "python3"
  },
  "language_info": {
   "codemirror_mode": {
    "name": "ipython",
    "version": 3
   },
   "file_extension": ".py",
   "mimetype": "text/x-python",
   "name": "python",
   "nbconvert_exporter": "python",
   "pygments_lexer": "ipython3",
   "version": "3.9.0"
  }
 },
 "nbformat": 4,
 "nbformat_minor": 2
}
