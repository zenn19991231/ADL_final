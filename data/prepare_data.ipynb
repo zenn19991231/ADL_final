{
 "cells": [
  {
   "cell_type": "markdown",
   "metadata": {},
   "source": [
    "# prepare data"
   ]
  },
  {
   "cell_type": "code",
   "execution_count": 1,
   "metadata": {},
   "outputs": [],
   "source": [
    "import csv\n",
    "import json\n",
    "import random\n",
    "\n",
    "fake_path = \"message_fake.csv\"\n",
    "true_path = \"message_true.csv\"\n",
    "json_path = 'message.json'\n",
    "\n",
    "\n",
    "data = []\n",
    "with open(fake_path, 'r', encoding='utf-8') as file:\n",
    "    reader = csv.reader(file)\n",
    "    for i, row in enumerate(reader):\n",
    "        row[0] = row[0].replace('\\\\n', '\\n')\n",
    "        data.append({\n",
    "            \"message_id\": f\"F_{i}\",\n",
    "            \"message\": row[0],\n",
    "            \"label\": \"詐騙訊息\"\n",
    "        })\n",
    "\n",
    "with open(true_path, 'r', encoding='utf-8') as file:\n",
    "    reader = csv.reader(file)\n",
    "    for i, row in enumerate(reader):\n",
    "        row[0] = row[0].replace('\\\\n', '\\n')\n",
    "        data.append({\n",
    "            \"message_id\": f\"R_{i}\",\n",
    "            \"message\": row[0],\n",
    "            \"label\": \"真實訊息\"\n",
    "        })\n",
    "\n",
    "random.seed(1126)\n",
    "random.shuffle(data)\n",
    "with open(json_path, 'w', encoding='utf-8') as json_file:\n",
    "    json.dump(data, json_file, indent=2)"
   ]
  }
 ],
 "metadata": {
  "kernelspec": {
   "display_name": "HTML_final",
   "language": "python",
   "name": "python3"
  },
  "language_info": {
   "codemirror_mode": {
    "name": "ipython",
    "version": 3
   },
   "file_extension": ".py",
   "mimetype": "text/x-python",
   "name": "python",
   "nbconvert_exporter": "python",
   "pygments_lexer": "ipython3",
   "version": "3.9.0"
  }
 },
 "nbformat": 4,
 "nbformat_minor": 2
}
